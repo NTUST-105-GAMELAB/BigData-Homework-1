{
 "cells": [
  {
   "cell_type": "code",
   "execution_count": 2,
   "metadata": {
    "collapsed": false
   },
   "outputs": [],
   "source": [
    "import pandas as pd\n",
    "import numpy as np\n",
    "import matplotlib.pyplot as plt\n",
    "\n",
    "from sklearn.ensemble import RandomForestClassifier\n",
    "from sklearn.ensemble import ExtraTreesClassifier\n",
    "from sklearn.feature_selection import SelectFromModel\n",
    "\n",
    "data = pd.read_csv(\"./LargeTrain.csv\")"
   ]
  },
  {
   "cell_type": "code",
   "execution_count": 3,
   "metadata": {
    "collapsed": false
   },
   "outputs": [
    {
     "name": "stdout",
     "output_type": "stream",
     "text": [
      "Feature ranking:\n",
      "1. feature 1286 (0.029169)\n",
      "2. feature 1159 (0.026552)\n",
      "3. feature 1294 (0.026309)\n",
      "4. feature 1290 (0.026191)\n",
      "5. feature 1281 (0.026112)\n",
      "6. feature 1291 (0.025884)\n",
      "7. feature 1346 (0.025710)\n",
      "8. feature 1332 (0.025463)\n",
      "9. feature 1160 (0.025207)\n",
      "10. feature 1162 (0.023905)\n"
     ]
    },
    {
     "data": {
      "image/png": "[encoded data removed]",
      "text/plain": [
       "<matplotlib.figure.Figure at 0x110262f50>"
      ]
     },
     "metadata": {},
     "output_type": "display_data"
    }
   ],
   "source": [
    "names = data.columns\n",
    "\n",
    "X = np.array(data.ix[:,0:1804])\n",
    "y = np.array(data.ix[:,1804:1805]).ravel()\n",
    "\n",
    "forest = RandomForestClassifier(n_estimators=10)\n",
    "\n",
    "forest = forest.fit(X, y)\n",
    "importances = forest.feature_importances_\n",
    "\n",
    "indices = np.argsort(importances)[::-1]\n",
    "\n",
    "# Print the feature ranking\n",
    "print(\"Feature ranking:\")\n",
    "\n",
    "for f in range(10):\n",
    "    print(\"%d. feature %d (%f)\" % (f + 1, indices[f], importances[indices[f]]))\n",
    "\n",
    "\n",
    "# Plot the feature importances of the forest\n",
    "plt.figure()\n",
    "plt.title(\"Feature importances\")\n",
    "\n",
    "plt.bar(range(10), importances[indices[0:10]]) #show top 10 more influential features\n",
    "plt.show()"
   ]
  },
  {
   "cell_type": "code",
   "execution_count": 4,
   "metadata": {
    "collapsed": false
   },
   "outputs": [
    {
     "name": "stdout",
     "output_type": "stream",
     "text": [
      "[[1537    1    0    0    1    1    0    1    0]\n",
      " [   0 2478    0    0    0    0    0    0    0]\n",
      " [   0    0 2942    0    0    0    0    0    0]\n",
      " [   2    0    0  470    0    1    0    2    0]\n",
      " [   1    0    0    0   41    0    0    0    0]\n",
      " [   7    0    0    4    0  737    0    1    2]\n",
      " [   0    0    0    0    0    2  396    0    0]\n",
      " [   4    0    1    1    0    1    0 1220    1]\n",
      " [   4    1    0    0    0    2    1    0 1005]]\n"
     ]
    }
   ],
   "source": [
    "from sklearn.metrics import confusion_matrix\n",
    "X_new = X[:,indices[0:10]]\n",
    "forest_new = RandomForestClassifier(n_estimators=10)\n",
    "forest_new = forest_new.fit(X_new, y)\n",
    "\n",
    "y_pred = forest_new.predict(X_new)\n",
    "cnf_matrix = confusion_matrix(y, y_pred)\n",
    "\n",
    "print cnf_matrix"
   ]
  },
  {
   "cell_type": "code",
   "execution_count": null,
   "metadata": {
    "collapsed": true
   },
   "outputs": [],
   "source": []
  }
 ],
 "metadata": {
  "kernelspec": {
   "display_name": "Python 2",
   "language": "python",
   "name": "python2"
  }
 },
 "nbformat": 4,
 "nbformat_minor": 2
}
