{
 "cells": [
  {
   "cell_type": "code",
   "execution_count": 2,
   "metadata": {
    "collapsed": false
   },
   "outputs": [
    {
     "name": "stdout",
     "output_type": "stream",
     "text": [
      "Feature ranking:\n",
      "1. feature 1230 (0.051675)\n",
      "2. feature 1286 (0.027726)\n",
      "3. feature 1279 (0.026727)\n",
      "4. feature 1247 (0.026702)\n",
      "5. feature 1304 (0.025941)\n",
      "6. feature 1295 (0.025820)\n",
      "7. feature 837 (0.025719)\n",
      "8. feature 1293 (0.025628)\n",
      "9. feature 1239 (0.025409)\n",
      "10. feature 1307 (0.025394)\n"
     ]
    },
    {
     "data": {
      "image/png": "[encoded data removed]",
      "text/plain": [
       "<matplotlib.figure.Figure at 0x112a56610>"
      ]
     },
     "metadata": {},
     "output_type": "display_data"
    }
   ],
   "source": [
    "import pandas as pd\n",
    "import numpy as np\n",
    "import matplotlib.pyplot as plt\n",
    "\n",
    "from sklearn.ensemble import RandomForestClassifier\n",
    "from sklearn.ensemble import ExtraTreesClassifier\n",
    "from sklearn.feature_selection import SelectFromModel\n",
    "\n",
    "data = pd.read_csv(\"./LargeTrain.csv\")\n",
    "\n",
    "X = np.array(data.ix[:,0:1804])\n",
    "y = np.array(data.ix[:,1804:1805]).ravel()\n",
    "\n",
    "forest = RandomForestClassifier(n_estimators=10)\n",
    "\n",
    "forest = forest.fit(X, y)\n",
    "importances = forest.feature_importances_\n",
    "\n",
    "indices = np.argsort(importances)[::-1]\n",
    "\n",
    "# Print the feature ranking\n",
    "print(\"Feature ranking:\")\n",
    "\n",
    "for f in range(10):\n",
    "    print(\"%d. feature %d (%f)\" % (f + 1, indices[f], importances[indices[f]]))\n",
    "\n",
    "\n",
    "# Plot the feature importances of the forest\n",
    "plt.figure()\n",
    "plt.title(\"Feature importances\")\n",
    "\n",
    "plt.bar(range(10), importances[indices[0:10]]) #show top 10 more influential features\n",
    "plt.show()"
   ]
  },
  {
   "cell_type": "code",
   "execution_count": 3,
   "metadata": {
    "collapsed": false
   },
   "outputs": [
    {
     "name": "stdout",
     "output_type": "stream",
     "text": [
      "[[1539    0    0    0    0    1    0    0    1]\n",
      " [   1 2476    0    0    0    0    0    1    0]\n",
      " [   0    0 2942    0    0    0    0    0    0]\n",
      " [   2    0    0  472    0    0    0    1    0]\n",
      " [   0    0    0    0   42    0    0    0    0]\n",
      " [   4    1    1    6    0  739    0    0    0]\n",
      " [   0    0    0    0    0    0  398    0    0]\n",
      " [   5    0    1    0    0    1    0 1221    0]\n",
      " [   2    1    1    1    0    2    0    0 1006]]\n"
     ]
    }
   ],
   "source": [
    "from sklearn.metrics import confusion_matrix\n",
    "X_new = X[:,indices[0:10]]\n",
    "forest_new = RandomForestClassifier(n_estimators=10)\n",
    "forest_new = forest_new.fit(X_new, y)\n",
    "\n",
    "y_pred = forest_new.predict(X_new)\n",
    "cnf_matrix = confusion_matrix(y, y_pred)\n",
    "\n",
    "print cnf_matrix"
   ]
  },
  {
   "cell_type": "code",
   "execution_count": null,
   "metadata": {
    "collapsed": true
   },
   "outputs": [],
   "source": []
  }
 ],
 "metadata": {
  "kernelspec": {
   "display_name": "Python 2",
   "language": "python",
   "name": "python2"
  },
  "language_info": {
   "codemirror_mode": {
    "name": "ipython",
    "version": 2
   },
   "file_extension": ".py",
   "mimetype": "text/x-python",
   "name": "python",
   "nbconvert_exporter": "python",
   "pygments_lexer": "ipython2",
   "version": "2.7.13"
  }
 },
 "nbformat": 4,
 "nbformat_minor": 2
}
